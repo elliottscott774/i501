{
 "cells": [
  {
   "cell_type": "markdown",
   "id": "f1044519-c68f-4ce6-8841-1a49093fbedf",
   "metadata": {},
   "source": [
    "Consider the following routines to try on your own in a \"scratch\" notebook. The pair problem will build on your understanding of these concepts.\n",
    "\n",
    "Try each of these both (a) without using NumPy, and (b) using NumPy:\n",
    "\n",
    "Given a classroom of n students, how many groups of 4 can we create?\n",
    "For this, consider the difference between the % operator and the // operator\n",
    "In general, how many ways can you \"fill the gap\" if the number of students is not a multiple of 4?\n",
    "E.g., if I have 15 students, I could use 3 groups of 1, or one group of 3, or a group of 2 and one of 1 ...\n",
    "Can you generalize this for group sizes of k (not just 4)?"
   ]
  },
  {
   "cell_type": "code",
   "execution_count": 20,
   "id": "518767aa-57d9-42eb-a690-395687eb0d74",
   "metadata": {},
   "outputs": [
    {
     "data": {
      "text/plain": [
       "4"
      ]
     },
     "execution_count": 20,
     "metadata": {},
     "output_type": "execute_result"
    }
   ],
   "source": [
    "# A, Without Numpy\n",
    "def numberOfGroups(n_students, group_size):\n",
    "    return n_students // group_size\n",
    "\n",
    "n_students = 17\n",
    "group_size = 4\n",
    "numberOfGroups(n_students,group_size)"
   ]
  },
  {
   "cell_type": "code",
   "execution_count": 18,
   "id": "56048daf-ea7a-403d-8a3d-d4f8442c6f20",
   "metadata": {},
   "outputs": [
    {
     "data": {
      "text/plain": [
       "array([3, 1, 1, 6], dtype=int32)"
      ]
     },
     "execution_count": 18,
     "metadata": {},
     "output_type": "execute_result"
    }
   ],
   "source": [
    "# B, With Numpy\n",
    "import numpy as np\n",
    "def numberOfGroups(n_students, group_size):\n",
    "    return n_students // group_size\n",
    "\n",
    "student_array = np.array([15,4,6,25])\n",
    "group_size = 4\n",
    "numberOfGroups(student_array,group_size)"
   ]
  },
  {
   "cell_type": "code",
   "execution_count": 43,
   "id": "ee47acff-da45-46e9-91d9-9fac805bb073",
   "metadata": {},
   "outputs": [
    {
     "name": "stdout",
     "output_type": "stream",
     "text": [
      "Groups of 9:  8\n",
      "Remainder:  8\n",
      "Groups of 8:  1\n",
      "Remainder:  0\n",
      "Groups of 7:  1\n",
      "Remainder:  1\n",
      "Groups of 1:  1\n",
      "Remainder:  0\n",
      "Groups of 6:  1\n",
      "Remainder:  2\n",
      "Groups of 2:  1\n",
      "Remainder:  0\n",
      "Groups of 1:  2\n",
      "Remainder:  0\n",
      "Groups of 5:  1\n",
      "Remainder:  3\n",
      "Groups of 3:  1\n",
      "Remainder:  0\n",
      "Groups of 2:  1\n",
      "Remainder:  1\n",
      "Groups of 1:  1\n",
      "Remainder:  0\n",
      "Groups of 1:  3\n",
      "Remainder:  0\n",
      "Groups of 4:  2\n",
      "Remainder:  0\n",
      "Groups of 3:  2\n",
      "Remainder:  2\n",
      "Groups of 2:  1\n",
      "Remainder:  0\n",
      "Groups of 1:  2\n",
      "Remainder:  0\n",
      "Groups of 2:  4\n",
      "Remainder:  0\n",
      "Groups of 1:  8\n",
      "Remainder:  0\n"
     ]
    }
   ],
   "source": [
    "def fill_in_gaps(n_students, initial_group_size):\n",
    "    print(f'Groups of {initial_group_size}: ', (n_students // initial_group_size))\n",
    "    print('Remainder: ',n_students % initial_group_size)\n",
    "    n_students = n_students % initial_group_size\n",
    "    group_size = n_students % initial_group_size\n",
    "\n",
    "    \n",
    "    while(group_size != 0):\n",
    "        fill_in_gaps(n_students,group_size)\n",
    "        group_size = group_size - 1\n",
    "\n",
    "\n",
    "n_students = 80\n",
    "group_size = 9\n",
    "fill_in_gaps(n_students,group_size)"
   ]
  }
 ],
 "metadata": {
  "kernelspec": {
   "display_name": "i501",
   "language": "python",
   "name": "i501"
  },
  "language_info": {
   "codemirror_mode": {
    "name": "ipython",
    "version": 3
   },
   "file_extension": ".py",
   "mimetype": "text/x-python",
   "name": "python",
   "nbconvert_exporter": "python",
   "pygments_lexer": "ipython3",
   "version": "3.10.13"
  }
 },
 "nbformat": 4,
 "nbformat_minor": 5
}
