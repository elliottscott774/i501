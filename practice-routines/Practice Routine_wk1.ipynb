{
 "cells": [
  {
   "cell_type": "markdown",
   "id": "efb6b816-8190-4c31-9a91-09eeefb6cd28",
   "metadata": {},
   "source": [
    "# Practice Routines\n",
    " - Suppose you're given a string of characters with some \"x\"s in it. Write some code that loops through those characters, and prints a \"yes\" or \"no\" based on whether the character is an \"x\".\n",
    "    - Given the initial string, try to use .replaceLinks to an external site. to remove periods or commas before running your function.\n",
    "    - What happens when you reverse the string using slices/bracket notation?\n",
    "    \n",
    " - Now, adjust your code so that you count the number of \"x\"s in the string using that loop. Consider removing capital letters with .lowerLinks to an external site.."
   ]
  },
  {
   "cell_type": "code",
   "execution_count": 31,
   "id": "e0e898d2-99da-4ad9-a75a-9e5695b94ccd",
   "metadata": {
    "tags": []
   },
   "outputs": [
    {
     "name": "stdout",
     "output_type": "stream",
     "text": [
      "XXXxxxtest\n"
     ]
    }
   ],
   "source": [
    "\n",
    "\n",
    "# First, I want to create a test strings to work with\n",
    "test_string = 'XXX...xxx,,,test'\n",
    "\n",
    "#Next I need to use the .replace class to replace '.' with ' ' in my strings.\n",
    "\n",
    "def replacePointWithSpace(text):\n",
    "    return text.replace('.','').replace(',','')\n",
    "\n",
    "\n",
    "test_string = replacePointWithSpace(test_string)\n",
    "\n",
    "print(test_string)"
   ]
  },
  {
   "cell_type": "code",
   "execution_count": 33,
   "id": "7454cc2e-d323-4660-a90d-2dc02cc77278",
   "metadata": {
    "tags": []
   },
   "outputs": [
    {
     "name": "stdout",
     "output_type": "stream",
     "text": [
      "yes\n",
      "yes\n",
      "yes\n",
      "yes\n",
      "yes\n",
      "yes\n",
      "no\n",
      "no\n",
      "no\n",
      "no\n"
     ]
    }
   ],
   "source": [
    "#Next I need to create a loop that indexes through the string and prints a 'yes' or 'no' based on whether the character is an 'x'\n",
    "import re\n",
    "\n",
    "def containsLetterX(text):\n",
    "    letters = re.findall(r'.', text) # splits the text up into individual characters\n",
    "    for letter in letters:\n",
    "        if letter.lower() == 'x':\n",
    "            print('yes')\n",
    "        else:\n",
    "            print('no')\n",
    "        \n",
    "    \n",
    "containsLetterX(test_string)\n"
   ]
  },
  {
   "cell_type": "code",
   "execution_count": 37,
   "id": "d3076b28-b344-43f0-8f71-732aa0003d0c",
   "metadata": {
    "tags": []
   },
   "outputs": [
    {
     "name": "stdout",
     "output_type": "stream",
     "text": [
      "6\n"
     ]
    }
   ],
   "source": [
    "# Next I want to count the number of X's in a string. \n",
    "# This can be done with a simple tweek to my containsLetterX funtion\n",
    "\n",
    "def countX(text):\n",
    "    count = 0\n",
    "    letters = re.findall(r'.', text) # splits the text up into individual characters\n",
    "    for letter in letters:\n",
    "        if letter.lower() == 'x':\n",
    "            count += 1\n",
    "        else:\n",
    "            next\n",
    "    return count\n",
    "\n",
    "print(countX(test_string))"
   ]
  }
 ],
 "metadata": {
  "kernelspec": {
   "display_name": "i501",
   "language": "python",
   "name": "i501"
  },
  "language_info": {
   "codemirror_mode": {
    "name": "ipython",
    "version": 3
   },
   "file_extension": ".py",
   "mimetype": "text/x-python",
   "name": "python",
   "nbconvert_exporter": "python",
   "pygments_lexer": "ipython3",
   "version": "3.10.13"
  }
 },
 "nbformat": 4,
 "nbformat_minor": 5
}
