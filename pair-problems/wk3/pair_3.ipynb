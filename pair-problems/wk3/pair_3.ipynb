{
 "cells": [
  {
   "cell_type": "markdown",
   "id": "0b8c1272-6123-46b8-a703-39dc895bbc6b",
   "metadata": {
    "id": "0b8c1272-6123-46b8-a703-39dc895bbc6b"
   },
   "source": [
    "# Pair Problem: Coins\n",
    "\n",
    "This pair problem is satisfied after you get through the first problem. If you can get through the first problem, please try working on the rest!\n",
    "\n",
    "*Note: Variations 1-3 are optional. :)*"
   ]
  },
  {
   "cell_type": "markdown",
   "id": "dff7dd2b-9adf-45cb-93e9-7e45c607cba3",
   "metadata": {
    "id": "dff7dd2b-9adf-45cb-93e9-7e45c607cba3",
    "tags": []
   },
   "source": [
    "## pennies and nickels\n",
    "\n",
    "Given enough pennies (1 cent) and nickels (5 cents), write a function, which calculates the number of ways you can make change for a given amount of cents. Do this in two ways:\n",
    "\n",
    "1. Write the function `ways` which does this without using NumPy.\n",
    "2. Write *another* function `ways_np` which does the same thing, but uses NumPy.\n",
    "\n",
    "**Test Cases**\n",
    "\n",
    "```python\n",
    "           --->      (num pennies, num nickels)\n",
    "    \n",
    "ways(12)   ---> 3    [(2, 2), (7, 1), (12, 0)]               \n",
    "ways(20)   ---> 5    [(0, 4), (5, 3), (10, 2), (15, 1), (20, 0)]\n",
    "ways(3)    ---> 1    [(3, 0)]\n",
    "ways(0)    ---> 1    [(0, 0)]\n",
    "```"
   ]
  },
  {
   "cell_type": "code",
   "execution_count": 5,
   "id": "b906e9af-b3b8-4fbe-9262-e9a9314c7b3a",
   "metadata": {
    "id": "b906e9af-b3b8-4fbe-9262-e9a9314c7b3a",
    "tags": []
   },
   "outputs": [
    {
     "data": {
      "text/plain": [
       "1"
      ]
     },
     "execution_count": 5,
     "metadata": {},
     "output_type": "execute_result"
    }
   ],
   "source": [
    "# your code here\n",
    "\n",
    "def ways(number):\n",
    "    return (number // 5) + 1\n",
    "\n",
    "ways(0)"
   ]
  },
  {
   "cell_type": "code",
   "execution_count": 12,
   "id": "88ffeaa8-20ec-486c-a664-aada54d103a9",
   "metadata": {
    "tags": []
   },
   "outputs": [
    {
     "data": {
      "text/plain": [
       "41"
      ]
     },
     "execution_count": 12,
     "metadata": {},
     "output_type": "execute_result"
    }
   ],
   "source": [
    "import numpy as np\n",
    "\n",
    "def ways_np(number):\n",
    "    ways = np.floor_divide(number,5)\n",
    "    return ways+1\n",
    "\n",
    "ways_np(200)"
   ]
  },
  {
   "cell_type": "markdown",
   "id": "db009987-9189-40d9-b08b-a330648f749b",
   "metadata": {
    "id": "db009987-9189-40d9-b08b-a330648f749b"
   },
   "source": [
    "## Optional Variation"
   ]
  },
  {
   "cell_type": "markdown",
   "id": "8d2149fe-2706-4f3d-ae81-20e48cb11b7f",
   "metadata": {
    "id": "8d2149fe-2706-4f3d-ae81-20e48cb11b7f"
   },
   "source": [
    "Update `ways` to incorporate an *arbitrary* set of coin values.\n",
    "\n",
    "I.e., your function should now look something like this:\n",
    "\n",
    "```python\n",
    "def ways(cents, coin_types):\n",
    "    # code code ...\n",
    "\n",
    ">>> ways(100, [25, 10, 5, 1])\n",
    ">>> 242\n",
    "```"
   ]
  },
  {
   "cell_type": "code",
   "execution_count": null,
   "id": "529e4cfc-5382-430e-9864-982882ca5e7b",
   "metadata": {
    "id": "529e4cfc-5382-430e-9864-982882ca5e7b",
    "tags": []
   },
   "outputs": [],
   "source": [
    "# your code here"
   ]
  },
  {
   "cell_type": "code",
   "execution_count": 29,
   "id": "9eb24ebc-37f9-4c50-9b92-7aa00c2a13d4",
   "metadata": {
    "id": "9eb24ebc-37f9-4c50-9b92-7aa00c2a13d4",
    "tags": []
   },
   "outputs": [
    {
     "name": "stdout",
     "output_type": "stream",
     "text": [
      "1\n"
     ]
    }
   ],
   "source": [
    "25x + 10y + 5z + 1w = 100\n",
    "25(0) + 10(0) + 5(0) + 1(100) = 100\n",
    "25(0) + 10(0) + 5(1) + 1(95)\n",
    "\n",
    "def ways(cents, coin_types):\n",
    "    coin_types = sorted(coin_types, reverse = True)\n",
    "    \n",
    "    \n",
    "\n",
    "    \n",
    "    \n",
    "coin_types = [25,10,5,1]\n",
    "cents = 25\n",
    "ways(cents, coin_types)\n",
    "\n"
   ]
  }
 ],
 "metadata": {
  "colab": {
   "provenance": []
  },
  "kernelspec": {
   "display_name": "i501",
   "language": "python",
   "name": "i501"
  },
  "language_info": {
   "codemirror_mode": {
    "name": "ipython",
    "version": 3
   },
   "file_extension": ".py",
   "mimetype": "text/x-python",
   "name": "python",
   "nbconvert_exporter": "python",
   "pygments_lexer": "ipython3",
   "version": "3.10.13"
  }
 },
 "nbformat": 4,
 "nbformat_minor": 5
}
