{
 "cells": [
  {
   "cell_type": "markdown",
   "metadata": {},
   "source": [
    "## Exercise 1\n",
    "Articulate a quantitative question of the data you plan to use in your final project for this class. Build a visualization which addresses this question. For larger datasets, you can feel free to use a subset of the data.\n",
    "\n",
    "### My Question\n",
    "What are the current player wages of Manchester United?\n",
    "\n",
    "### Visualization Process\n",
    "First I need to load the data into this "
   ]
  }
 ],
 "metadata": {
  "language_info": {
   "name": "python"
  }
 },
 "nbformat": 4,
 "nbformat_minor": 2
}
