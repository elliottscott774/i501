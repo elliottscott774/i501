{
 "cells": [
  {
   "cell_type": "markdown",
   "id": "5ceee6a3-34fe-4771-ae3c-8a5b7c7875fe",
   "metadata": {},
   "source": [
    "Write a recursive function which adds up all the numbers from 1 to n (given some n)."
   ]
  },
  {
   "cell_type": "code",
   "execution_count": 5,
   "id": "0583b88c-5ebf-4124-bc8c-a4e2b54c5cc4",
   "metadata": {
    "tags": []
   },
   "outputs": [
    {
     "data": {
      "text/plain": [
       "40320"
      ]
     },
     "execution_count": 5,
     "metadata": {},
     "output_type": "execute_result"
    }
   ],
   "source": [
    "def recursive_factorial(n):\n",
    "    if(n > 1):\n",
    "        return n * recursive_add(n-1)\n",
    "    else:\n",
    "        return 1\n",
    "    \n",
    "    \n",
    "recursive_factorial(8)"
   ]
  }
 ],
 "metadata": {
  "kernelspec": {
   "display_name": "i501",
   "language": "python",
   "name": "i501"
  },
  "language_info": {
   "codemirror_mode": {
    "name": "ipython",
    "version": 3
   },
   "file_extension": ".py",
   "mimetype": "text/x-python",
   "name": "python",
   "nbconvert_exporter": "python",
   "pygments_lexer": "ipython3",
   "version": "3.10.13"
  }
 },
 "nbformat": 4,
 "nbformat_minor": 5
}
